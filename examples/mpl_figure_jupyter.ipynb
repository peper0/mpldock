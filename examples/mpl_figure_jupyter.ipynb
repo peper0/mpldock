{
 "cells": [
  {
   "cell_type": "code",
   "execution_count": null,
   "metadata": {},
   "outputs": [],
   "source": [
    "import matplotlib\n",
    "from mpldock import persist_layout\n",
    "import matplotlib.pyplot as plt\n",
    "\n",
    "matplotlib.use('module://mpldock')  # in jupyter, must be done before importing pyplot\n",
    "persist_layout('143234b5-4408-42a6-ae97-3c11332a96fa')"
   ]
  },
  {
   "cell_type": "code",
   "execution_count": null,
   "metadata": {},
   "outputs": [],
   "source": [
    "plt.figure(\"some plot\")\n",
    "plt.plot([1, 5, 3])\n",
    "plt.figure(\"another plot\")\n",
    "plt.plot([5, 0, 1])\n"
   ]
  },
  {
   "cell_type": "code",
   "execution_count": null,
   "metadata": {},
   "outputs": [],
   "source": [
    "plt.figure(\"one more\")\n",
    "plt.plot([1, 2, 2])"
   ]
  }
 ],
 "metadata": {
  "kernelspec": {
   "display_name": "Python 3 (ipykernel)",
   "language": "python",
   "name": "python3"
  },
  "language_info": {
   "codemirror_mode": {
    "name": "ipython",
    "version": 3
   },
   "file_extension": ".py",
   "mimetype": "text/x-python",
   "name": "python",
   "nbconvert_exporter": "python",
   "pygments_lexer": "ipython3",
   "version": "3.12.3"
  }
 },
 "nbformat": 4,
 "nbformat_minor": 4
}
