{
 "cells": [
  {
   "cell_type": "code",
   "execution_count": 1,
   "metadata": {
    "collapsed": true
   },
   "outputs": [
    {
     "name": "stdout",
     "output_type": "stream",
     "text": [
      "adding MplFigure__1 some plot\nadding MplFigure__2 another plot\nadding MplFigure__3 subplots\n"
     ]
    },
    {
     "data": {
      "text/plain": [
       "<mpldock.window.Window at 0x7fac6c0255e8>"
      ]
     },
     "execution_count": 1,
     "metadata": {},
     "output_type": "execute_result"
    }
   ],
   "source": [
    "%gui qt5\n",
    "import matplotlib\n",
    "matplotlib.use('module://mpldock.backend')  # in jupyter, must be done before importing pyplot\n",
    "import matplotlib.pyplot as plt\n",
    "from mpldock import window\n",
    "\n",
    "window(\"matplotlib backend example\", '1e2682b5-4408-42a6-ae97-3c11332a96fa')\n",
    "\n"
   ]
  },
  {
   "cell_type": "code",
   "execution_count": 2,
   "metadata": {},
   "outputs": [
    {
     "name": "stdout",
     "output_type": "stream",
     "text": [
      "title changed to some plot\ntitle changed to another plot\n"
     ]
    },
    {
     "name": "stdout",
     "output_type": "stream",
     "text": [
      "title changed to subplots\n"
     ]
    },
    {
     "data": {
      "text/plain": [
       "[<matplotlib.lines.Line2D at 0x7fac51313828>]"
      ]
     },
     "execution_count": 2,
     "metadata": {},
     "output_type": "execute_result"
    }
   ],
   "source": [
    "plt.figure(\"some plot\")\n",
    "plt.plot([1, 5, 3])\n",
    "plt.figure(\"another plot\")\n",
    "plt.plot([5, 0, 1])\n",
    "\n",
    "plt.figure(\"subplots\")\n",
    "a = plt.subplot('220')\n",
    "a.plot([3, 2, 4])\n"
   ]
  },
  {
   "cell_type": "code",
   "execution_count": 3,
   "metadata": {},
   "outputs": [
    {
     "name": "stdout",
     "output_type": "stream",
     "text": [
      "title changed to one more\n"
     ]
    },
    {
     "data": {
      "text/plain": [
       "[<matplotlib.lines.Line2D at 0x7fd65c6ecc88>]"
      ]
     },
     "execution_count": 3,
     "metadata": {},
     "output_type": "execute_result"
    }
   ],
   "source": [
    "plt.figure(\"one more\")\n",
    "a.plot([1, 2, 2])"
   ]
  }
 ],
 "metadata": {
  "kernelspec": {
   "display_name": "Python 2",
   "language": "python",
   "name": "python2"
  },
  "language_info": {
   "codemirror_mode": {
    "name": "ipython",
    "version": 2
   },
   "file_extension": ".py",
   "mimetype": "text/x-python",
   "name": "python",
   "nbconvert_exporter": "python",
   "pygments_lexer": "ipython2",
   "version": "2.7.6"
  }
 },
 "nbformat": 4,
 "nbformat_minor": 0
}
